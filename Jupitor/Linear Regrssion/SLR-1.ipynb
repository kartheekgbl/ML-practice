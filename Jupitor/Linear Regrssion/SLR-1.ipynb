{
 "cells": [
  {
   "cell_type": "code",
   "execution_count": 12,
   "id": "f67ac5ae",
   "metadata": {},
   "outputs": [
    {
     "data": {
      "text/plain": [
       "(0      1.2\n",
       " 1      1.4\n",
       " 2      1.6\n",
       " 3      2.1\n",
       " 4      2.3\n",
       " 5      3.0\n",
       " 6      3.1\n",
       " 7      3.3\n",
       " 8      3.3\n",
       " 9      3.8\n",
       " 10     4.0\n",
       " 11     4.1\n",
       " 12     4.1\n",
       " 13     4.2\n",
       " 14     4.6\n",
       " 15     5.0\n",
       " 16     5.2\n",
       " 17     5.4\n",
       " 18     6.0\n",
       " 19     6.1\n",
       " 20     6.9\n",
       " 21     7.2\n",
       " 22     8.0\n",
       " 23     8.3\n",
       " 24     8.8\n",
       " 25     9.1\n",
       " 26     9.6\n",
       " 27     9.7\n",
       " 28    10.4\n",
       " 29    10.6\n",
       " Name: YearsExperience, dtype: float64,\n",
       " 0      39344\n",
       " 1      46206\n",
       " 2      37732\n",
       " 3      43526\n",
       " 4      39892\n",
       " 5      56643\n",
       " 6      60151\n",
       " 7      54446\n",
       " 8      64446\n",
       " 9      57190\n",
       " 10     63219\n",
       " 11     55795\n",
       " 12     56958\n",
       " 13     57082\n",
       " 14     61112\n",
       " 15     67939\n",
       " 16     66030\n",
       " 17     83089\n",
       " 18     81364\n",
       " 19     93941\n",
       " 20     91739\n",
       " 21     98274\n",
       " 22    101303\n",
       " 23    113813\n",
       " 24    109432\n",
       " 25    105583\n",
       " 26    116970\n",
       " 27    112636\n",
       " 28    122392\n",
       " 29    121873\n",
       " Name: Salary, dtype: int64)"
      ]
     },
     "execution_count": 12,
     "metadata": {},
     "output_type": "execute_result"
    }
   ],
   "source": [
    "import pandas as pd\n",
    "import numpy as np\n",
    "import matplotlib.pyplot as plt\n",
    "#from sklearn.module_section import train_test_split \n",
    "\n",
    "df=pd.read_csv(\"C:\\\\Users\\\\surya\\\\OneDrive\\\\Desktop\\\\Jupitor\\\\Linear Regrssion\\\\Dataset\\\\Salary_dataset.csv\")\n",
    "X=df.iloc[:,0]\n",
    "y=df.iloc[:,1]\n",
    "X,y"
   ]
  },
  {
   "cell_type": "code",
   "execution_count": 13,
   "id": "3c2f8114",
   "metadata": {},
   "outputs": [],
   "source": [
    "# Handiling missing DAta\n",
    "\n",
    "#from sklearn.preprocessing import Imputer\n",
    "#imputer=imputer(missing_values='NaN',strategy=\"mean\",axis=0)\n",
    "#imputer imputer=iputer.fit[:.1:3]\n",
    "#x[:,1:3]=imputer.transform(x[:,1:3])"
   ]
  },
  {
   "cell_type": "code",
   "execution_count": null,
   "id": "de936410",
   "metadata": {},
   "outputs": [],
   "source": []
  }
 ],
 "metadata": {
  "kernelspec": {
   "display_name": "Python 3 (ipykernel)",
   "language": "python",
   "name": "python3"
  },
  "language_info": {
   "codemirror_mode": {
    "name": "ipython",
    "version": 3
   },
   "file_extension": ".py",
   "mimetype": "text/x-python",
   "name": "python",
   "nbconvert_exporter": "python",
   "pygments_lexer": "ipython3",
   "version": "3.11.4"
  }
 },
 "nbformat": 4,
 "nbformat_minor": 5
}
