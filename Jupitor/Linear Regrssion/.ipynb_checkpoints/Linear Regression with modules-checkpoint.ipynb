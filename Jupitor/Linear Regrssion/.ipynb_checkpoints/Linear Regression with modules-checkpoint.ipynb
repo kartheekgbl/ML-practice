{
 "cells": [
  {
   "cell_type": "code",
   "execution_count": 19,
   "id": "c31a1194",
   "metadata": {
    "scrolled": false
   },
   "outputs": [
    {
     "data": {
      "text/plain": [
       "(0     230.1\n",
       " 1      44.5\n",
       " 2      17.2\n",
       " 3     151.5\n",
       " 4     180.8\n",
       "       ...  \n",
       " 68    237.4\n",
       " 69    216.8\n",
       " 70    199.1\n",
       " 71    109.8\n",
       " 72     26.8\n",
       " Name: TV, Length: 73, dtype: float64,\n",
       " 0     22.1\n",
       " 1     10.4\n",
       " 2     12.0\n",
       " 3     16.5\n",
       " 4     17.9\n",
       "       ... \n",
       " 68    18.9\n",
       " 69    22.3\n",
       " 70    18.3\n",
       " 71    12.4\n",
       " 72     8.8\n",
       " Name: Sales, Length: 73, dtype: float64)"
      ]
     },
     "execution_count": 19,
     "metadata": {},
     "output_type": "execute_result"
    }
   ],
   "source": [
    "import pandas as pd\n",
    "import numpy as np\n",
    "import matplotlib.pyplot as plt\n",
    "\n",
    "data=pd.read_csv(\"D:\\\\Kartheek\\\\Complete ML\\\\Maths in ML\\\\Simple Linear Regression\\\\advertising.csv\")\n",
    "\n",
    "\n",
    "X=data.iloc[:,0]\n",
    "y=data.iloc[:,1]\n",
    "X,y"
   ]
  },
  {
   "cell_type": "code",
   "execution_count": 21,
   "id": "e25a32c7",
   "metadata": {
    "scrolled": false
   },
   "outputs": [
    {
     "data": {
      "image/png": "[encoded data removed]",
      "text/plain": [
       "<Figure size 640x480 with 1 Axes>"
      ]
     },
     "metadata": {},
     "output_type": "display_data"
    }
   ],
   "source": [
    "plt.scatter(X,y)\n",
    "plt.show()"
   ]
  },
  {
   "cell_type": "code",
   "execution_count": 36,
   "id": "7ae43397",
   "metadata": {
    "scrolled": false
   },
   "outputs": [
    {
     "name": "stdout",
     "output_type": "stream",
     "text": [
      "0     0.839806\n",
      "1     0.271845\n",
      "2     0.349515\n",
      "3     0.567961\n",
      "4     0.635922\n",
      "        ...   \n",
      "68    0.684466\n",
      "69    0.849515\n",
      "70    0.655340\n",
      "71    0.368932\n",
      "72    0.194175\n",
      "Name: Sales, Length: 73, dtype: float64\n"
     ]
    },
    {
     "data": {
      "text/plain": [
       "4.8"
      ]
     },
     "execution_count": 36,
     "metadata": {},
     "output_type": "execute_result"
    }
   ],
   "source": [
    "m=0\n",
    "c=0\n",
    "\n",
    "L=0.0001\n",
    "\n",
    "n=float(len(X))\n",
    "\n",
    "k=1000\n",
    "\n",
    "for i in range(k):\n",
    "    yp=m*X+c\n",
    "    D_m=(-2/n) * sum(X *(y-yp))\n",
    "    D_c=(-2/n) * sum(y-yp)\n",
    "    m=m-L*D_m\n",
    "    c=c-L*D_c\n",
    "    \n",
    "def minmax(ar):\n",
    "    arn=(ar - ar.min()) / (ar.max()-ar.min())\n",
    "    print(arn)\n",
    "    return arn\n",
    "    \n",
    "minmax(y)\n",
    "y\n",
    "min(y)"
   ]
  },
  {
   "cell_type": "code",
   "execution_count": null,
   "id": "30e886a7",
   "metadata": {},
   "outputs": [],
   "source": []
  }
 ],
 "metadata": {
  "kernelspec": {
   "display_name": "Python 3 (ipykernel)",
   "language": "python",
   "name": "python3"
  },
  "language_info": {
   "codemirror_mode": {
    "name": "ipython",
    "version": 3
   },
   "file_extension": ".py",
   "mimetype": "text/x-python",
   "name": "python",
   "nbconvert_exporter": "python",
   "pygments_lexer": "ipython3",
   "version": "3.11.4"
  }
 },
 "nbformat": 4,
 "nbformat_minor": 5
}
